{
 "cells": [
  {
   "cell_type": "code",
   "execution_count": 3,
   "id": "8312d545-6e83-4e9b-9c94-9f0d71688239",
   "metadata": {},
   "outputs": [],
   "source": [
    "SOURCE_FILE_PATH = 'gs://landing_bucket_dez/pq/mex_coords/*'\n",
    "TARGET_TABLE = 'raw_geo_mx.mexico_coordinates'"
   ]
  },
  {
   "cell_type": "code",
   "execution_count": 1,
   "id": "3abd5e95-cb5b-456b-a660-942a79114389",
   "metadata": {},
   "outputs": [],
   "source": [
    "import pyspark\n",
    "from pyspark.sql import SparkSession\n",
    "from pyspark.conf import SparkConf\n",
    "from pyspark.context import SparkContext\n",
    "import pyspark.sql.functions as F\n",
    "from pyspark.sql.functions import udf\n",
    "\n",
    "from pyspark.sql.types import StructType, StructField, IntegerType, StringType, ShortType, ByteType, DateType"
   ]
  },
  {
   "cell_type": "code",
   "execution_count": 2,
   "id": "a4ccc099-59ba-425a-abef-48da249196a9",
   "metadata": {},
   "outputs": [
    {
     "name": "stdout",
     "output_type": "stream",
     "text": [
      "24/03/22 04:57:40 WARN NativeCodeLoader: Unable to load native-hadoop library for your platform... using builtin-java classes where applicable\n"
     ]
    },
    {
     "name": "stderr",
     "output_type": "stream",
     "text": [
      "Setting default log level to \"WARN\".\n",
      "To adjust logging level use sc.setLogLevel(newLevel). For SparkR, use setLogLevel(newLevel).\n"
     ]
    },
    {
     "name": "stdout",
     "output_type": "stream",
     "text": [
      "24/03/22 04:57:41 WARN Utils: Service 'SparkUI' could not bind on port 4040. Attempting port 4041.\n"
     ]
    }
   ],
   "source": [
    "CREDENTIALS_LOCATION = '/home/emilel/.secrets/gcp/gcp-secret.json'\n",
    "GCS_CONNECTOR_JAR = '/home/emilel/dez-project-emi/lib/gcs-connector-hadoop3-2.2.5.jar'\n",
    "BQ_CONNECTOR_JAR = '/home/emilel/dez-project-emi/lib/spark-3.3-bigquery-0.36.1.jar'\n",
    "JARS = f'{GCS_CONNECTOR_JAR},{BQ_CONNECTOR_JAR}'\n",
    "DATAPROC_TEMP_BUCKET = 'dataproc-temp-us-central1-329749248489-tvazyaju'\n",
    "\n",
    "conf = SparkConf() \\\n",
    "    .setMaster('local[*]') \\\n",
    "    .setAppName('test') \\\n",
    "    .set('spark.jars', JARS) \\\n",
    "    .set('spark.hadoop.google.cloud.auth.service.account.enable', 'true') \\\n",
    "    .set('spark.hadoop.google.cloud.auth.service.account.json.keyfile', CREDENTIALS_LOCATION)\n",
    "\n",
    "sc = SparkContext.getOrCreate(conf=conf)\n",
    "sc.setLogLevel('WARN')\n",
    "hadoop_conf = sc._jsc.hadoopConfiguration()\n",
    "\n",
    "hadoop_conf.set('fs.AbstractFileSystem.gs.impl',  'com.google.cloud.hadoop.fs.gcs.GoogleHadoopFS')\n",
    "hadoop_conf.set('fs.gs.impl', 'com.google.cloud.hadoop.fs.gcs.GoogleHadoopFileSystem')\n",
    "hadoop_conf.set('fs.gs.auth.service.account.json.keyfile', CREDENTIALS_LOCATION)\n",
    "hadoop_conf.set('fs.gs.auth.service.account.enable', 'true')\n",
    "\n",
    "spark = SparkSession.builder \\\n",
    "    .config(conf=sc.getConf()) \\\n",
    "    .getOrCreate()\n",
    "\n",
    "spark.conf.set('temporaryGcsBucket', DATAPROC_TEMP_BUCKET)"
   ]
  },
  {
   "cell_type": "code",
   "execution_count": 5,
   "id": "09abcfa1-c36c-47d0-8c0a-e9ad53c9753c",
   "metadata": {},
   "outputs": [
    {
     "name": "stdout",
     "output_type": "stream",
     "text": [
      "+-----------+--------------------+-----------------+-----------------+-----------------+-------------+-----------------+----------+---------+----------+--------+----------+\n",
      "|entity_code|         entity_name|entity_name_short|municipality_code|municipality_name|location_name|    location_code|scope_code| latitude| longitude|altitude|letter_key|\n",
      "+-----------+--------------------+-----------------+-----------------+-----------------+-------------+-----------------+----------+---------+----------+--------+----------+\n",
      "|         30|Veracruz de Ignac...|              Ver|              001|          Acajete|         0001|          Acajete|         U|19.586973| -97.01045|    2019|    E14B26|\n",
      "|         30|Veracruz de Ignac...|              Ver|              001|          Acajete|         0002|    Barranquillas|         R| 19.55984| -97.05833|    2562|    E14B26|\n",
      "|         30|Veracruz de Ignac...|              Ver|              001|          Acajete|         0003|          Colexta|         R|19.555288| -97.04552|    2400|    E14B26|\n",
      "|         30|Veracruz de Ignac...|              Ver|              001|          Acajete|         0004|       Cruz Verde|         R|19.615635|-97.016815|    2101|    E14B26|\n",
      "|         30|Veracruz de Ignac...|              Ver|              001|          Acajete|         0005|      Dos Veredas|         R|19.602713|-97.062096|    2499|    E14B26|\n",
      "|         30|Veracruz de Ignac...|              Ver|              001|          Acajete|         0006|       El Encinal|         R|19.585165| -97.06004|    2614|    E14B26|\n",
      "|         30|Veracruz de Ignac...|              Ver|              001|          Acajete|         0007|    La Joya Chica|         R|19.593243| -97.02081|    2136|    E14B26|\n",
      "|         30|Veracruz de Ignac...|              Ver|              001|          Acajete|         0008|          La Joya|         R|19.610128| -97.02561|    2149|    E14B26|\n",
      "|         30|Veracruz de Ignac...|              Ver|              001|          Acajete|         0009|        Mazatepec|         R|19.573372|-97.018776|    2035|    E14B26|\n",
      "|         30|Veracruz de Ignac...|              Ver|              001|          Acajete|         0010| Mesa de la Yerba|         R|19.558624| -97.01455|    2017|    E14B26|\n",
      "|         30|Veracruz de Ignac...|              Ver|              001|          Acajete|         0011|       El Mirador|         R|19.524046|  -97.0531|    2520|    E14B26|\n",
      "|         30|Veracruz de Ignac...|              Ver|              001|          Acajete|         0012|   Plan de Sedeño|         R|19.570951| -97.00624|    1859|    E14B26|\n",
      "|         30|Veracruz de Ignac...|              Ver|              001|          Acajete|         0013|     Puentecillas|         R| 19.57634| -97.03639|    2258|    E14B26|\n",
      "|         30|Veracruz de Ignac...|              Ver|              001|          Acajete|         0014|Rincón de la Joya|         R|19.599798|  -97.0312|    2161|    E14B26|\n",
      "|         30|Veracruz de Ignac...|              Ver|              001|          Acajete|         0015|           Teapan|         R|19.616564| -97.00455|    2014|    E14B26|\n",
      "|         30|Veracruz de Ignac...|              Ver|              001|          Acajete|         0016| Vega de Pixquiac|         R|19.540365| -97.01334|    1641|    E14B26|\n",
      "|         30|Veracruz de Ignac...|              Ver|              001|          Acajete|         0017|       El Zapotal|         R| 19.51641| -97.02776|    2130|    E14B26|\n",
      "|         30|Veracruz de Ignac...|              Ver|              001|          Acajete|         0018|          El Caño|         R| 19.55247| -97.07412|    2806|    E14B26|\n",
      "|         30|Veracruz de Ignac...|              Ver|              001|          Acajete|         0021|      Palo Blanco|         R|19.531786| -97.02803|    2124|    E14B26|\n",
      "|         30|Veracruz de Ignac...|              Ver|              001|          Acajete|         0022|     Pueblo Viejo|         R|19.541843| -97.05242|    2440|    E14B26|\n",
      "+-----------+--------------------+-----------------+-----------------+-----------------+-------------+-----------------+----------+---------+----------+--------+----------+\n",
      "only showing top 20 rows\n",
      "\n"
     ]
    }
   ],
   "source": [
    "df = spark.read.parquet(SOURCE_FILE_PATH)\n",
    "df.show()"
   ]
  },
  {
   "cell_type": "code",
   "execution_count": 6,
   "id": "8492f9b5-a356-402b-829b-59b2f9b90f89",
   "metadata": {},
   "outputs": [
    {
     "name": "stderr",
     "output_type": "stream",
     "text": [
      "                                                                                \r"
     ]
    }
   ],
   "source": [
    "df.write.mode(\"overwrite\").format(\"bigquery\").option(\"table\", TARGET_TABLE).save()"
   ]
  },
  {
   "cell_type": "code",
   "execution_count": null,
   "id": "8ac15215-53de-4cfc-a540-df51c2896827",
   "metadata": {},
   "outputs": [],
   "source": []
  }
 ],
 "metadata": {
  "kernelspec": {
   "display_name": "Python 3 (ipykernel)",
   "language": "python",
   "name": "python3"
  },
  "language_info": {
   "codemirror_mode": {
    "name": "ipython",
    "version": 3
   },
   "file_extension": ".py",
   "mimetype": "text/x-python",
   "name": "python",
   "nbconvert_exporter": "python",
   "pygments_lexer": "ipython3",
   "version": "3.8.10"
  }
 },
 "nbformat": 4,
 "nbformat_minor": 5
}
