{
 "cells": [
  {
   "cell_type": "code",
   "execution_count": 29,
   "id": "042a946e-7a6d-49b8-9445-3d679219ac14",
   "metadata": {},
   "outputs": [],
   "source": [
    "SOURCE_FILE_PATH = 'gs://landing_bucket_dez/mex_coords/mex_coords.csv'\n",
    "TARGET_FILE_PATH = 'gs://landing_bucket_dez/pq/mex_coords/'"
   ]
  },
  {
   "cell_type": "code",
   "execution_count": 4,
   "id": "8259b58b-d11e-4a1f-ac50-bcd0b964d21b",
   "metadata": {},
   "outputs": [],
   "source": [
    "import pyspark\n",
    "from pyspark.sql import SparkSession\n",
    "from pyspark.conf import SparkConf\n",
    "from pyspark.context import SparkContext\n",
    "import pyspark.sql.functions as F\n",
    "from pyspark.sql.functions import udf\n",
    "\n",
    "from pyspark.sql.types import StructType, StructField, IntegerType, StringType, ShortType, ByteType, DateType, FloatType"
   ]
  },
  {
   "cell_type": "code",
   "execution_count": 5,
   "id": "9904c5ac-a9f8-417c-8e49-52d5212023a2",
   "metadata": {},
   "outputs": [],
   "source": [
    "CREDENTIALS_LOCATION = '/home/emilel/.secrets/gcp/gcp-secret.json'\n",
    "SPARK_LIB = \"/home/emilel/dez-project-emi/lib/gcs-connector-hadoop3-2.2.5.jar\"\n",
    "\n",
    "conf = SparkConf() \\\n",
    "    .setMaster('local[*]') \\\n",
    "    .setAppName('test') \\\n",
    "    .set(\"spark.jars\", SPARK_LIB) \\\n",
    "    .set(\"spark.hadoop.google.cloud.auth.service.account.enable\", \"true\") \\\n",
    "    .set(\"spark.hadoop.google.cloud.auth.service.account.json.keyfile\", CREDENTIALS_LOCATION)\n",
    "\n",
    "sc = SparkContext.getOrCreate(conf=conf)\n",
    "sc.setLogLevel(\"WARN\")\n",
    "hadoop_conf = sc._jsc.hadoopConfiguration()\n",
    "\n",
    "hadoop_conf.set(\"fs.AbstractFileSystem.gs.impl\",  \"com.google.cloud.hadoop.fs.gcs.GoogleHadoopFS\")\n",
    "hadoop_conf.set(\"fs.gs.impl\", \"com.google.cloud.hadoop.fs.gcs.GoogleHadoopFileSystem\")\n",
    "hadoop_conf.set(\"fs.gs.auth.service.account.json.keyfile\", CREDENTIALS_LOCATION)\n",
    "hadoop_conf.set(\"fs.gs.auth.service.account.enable\", \"true\")\n",
    "\n",
    "spark = SparkSession.builder \\\n",
    "    .config(conf=sc.getConf()) \\\n",
    "    .getOrCreate()"
   ]
  },
  {
   "cell_type": "code",
   "execution_count": 31,
   "id": "d9dfdb2a-dca8-4158-a71b-90c719f12a47",
   "metadata": {},
   "outputs": [],
   "source": [
    "coords_schema = StructType([\n",
    "    StructField('entity_code', StringType(), True)\n",
    "    , StructField('entity_name', StringType(), True)\n",
    "    , StructField('entity_name_short', StringType(), True)\n",
    "    , StructField('municipality_code', StringType(), True)\n",
    "    , StructField('municipality_name', StringType(), True)\n",
    "    , StructField('location_code', StringType(), True)\n",
    "    , StructField('location_name', StringType(), True)\n",
    "    , StructField('scope_code', StringType(), True)\n",
    "    , StructField('latitude', FloatType(), True)\n",
    "    , StructField('longitude', FloatType(), True)\n",
    "    , StructField('altitude', IntegerType(), True)\n",
    "    , StructField('letter_key', StringType(), True)\n",
    "])"
   ]
  },
  {
   "cell_type": "code",
   "execution_count": 33,
   "id": "efd0e369-0e59-4a77-9b63-88912440cc51",
   "metadata": {},
   "outputs": [],
   "source": [
    "coords_df = spark.read\\\n",
    "    .option('header', True)\\\n",
    "    .schema(coords_schema)\\\n",
    "    .csv(SOURCE_FILE_PATH)"
   ]
  },
  {
   "cell_type": "code",
   "execution_count": 34,
   "id": "2a005ace-134f-406e-a465-c9847d5b5ba5",
   "metadata": {},
   "outputs": [],
   "source": [
    "coords_df = coords_df.withColumn('entity_name_short', F.regexp_replace('entity_name_short', '\\.', '')) \\\n",
    "    .withColumn('entity', F.col('entity_name_short'))"
   ]
  },
  {
   "cell_type": "code",
   "execution_count": 35,
   "id": "173ed8d1-69e7-4d5a-94a4-cf7ee3de378e",
   "metadata": {},
   "outputs": [
    {
     "name": "stdout",
     "output_type": "stream",
     "text": [
      "24/03/22 05:11:37 WARN CSVHeaderChecker: CSV header does not conform to the schema.\n",
      " Header: CVE_ENT, NOM_ENT, NOM_ABR, CVE_MUN, NOM_MUN, CVE_LOC, NOM_LOC, AMBITO, LAT_DEC, LON_DEC, ALTITUD, CVE_CARTA\n",
      " Schema: entity_code, entity_name, entity_name_short, municipality_code, municipality_name, location_code, location_name, scope_code, latitude, longitude, altitude, letter_key\n",
      "Expected: entity_code but found: CVE_ENT\n",
      "CSV file: gs://landing_bucket_dez/mex_coords/mex_coords.csv\n"
     ]
    },
    {
     "name": "stderr",
     "output_type": "stream",
     "text": [
      "                                                                                \r"
     ]
    }
   ],
   "source": [
    "coords_df.write\\\n",
    "    .mode(\"overwrite\")\\\n",
    "    .partitionBy('entity')\\\n",
    "    .parquet(TARGET_FILE_PATH)"
   ]
  },
  {
   "cell_type": "code",
   "execution_count": null,
   "id": "6db36bb0-3625-4d50-9112-5105780a23ac",
   "metadata": {},
   "outputs": [],
   "source": []
  }
 ],
 "metadata": {
  "kernelspec": {
   "display_name": "Python 3 (ipykernel)",
   "language": "python",
   "name": "python3"
  },
  "language_info": {
   "codemirror_mode": {
    "name": "ipython",
    "version": 3
   },
   "file_extension": ".py",
   "mimetype": "text/x-python",
   "name": "python",
   "nbconvert_exporter": "python",
   "pygments_lexer": "ipython3",
   "version": "3.8.10"
  }
 },
 "nbformat": 4,
 "nbformat_minor": 5
}
