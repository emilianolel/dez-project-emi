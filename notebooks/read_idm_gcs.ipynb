{
 "cells": [
  {
   "cell_type": "code",
   "execution_count": 1,
   "id": "8259b58b-d11e-4a1f-ac50-bcd0b964d21b",
   "metadata": {},
   "outputs": [],
   "source": [
    "import pyspark\n",
    "from pyspark.sql import SparkSession\n",
    "from pyspark.conf import SparkConf\n",
    "from pyspark.context import SparkContext\n",
    "import pyspark.sql.functions as F\n",
    "from pyspark.sql.functions import udf\n",
    "\n",
    "from pyspark.sql.types import StructType, StructField, IntegerType, StringType, ShortType, ByteType, DateType"
   ]
  },
  {
   "cell_type": "code",
   "execution_count": 2,
   "id": "9904c5ac-a9f8-417c-8e49-52d5212023a2",
   "metadata": {},
   "outputs": [],
   "source": [
    "CREDENTIALS_LOCATION = '/home/emilel/.secrets/gcp/gcp-secret.json'\n",
    "SPARK_LIB = \"/home/emilel/dez-project-emi/lib/gcs-connector-hadoop3-2.2.5.jar\"\n",
    "\n",
    "conf = SparkConf() \\\n",
    "    .setMaster('local[*]') \\\n",
    "    .setAppName('test') \\\n",
    "    .set(\"spark.jars\", SPARK_LIB) \\\n",
    "    .set(\"spark.hadoop.google.cloud.auth.service.account.enable\", \"true\") \\\n",
    "    .set(\"spark.hadoop.google.cloud.auth.service.account.json.keyfile\", CREDENTIALS_LOCATION)"
   ]
  },
  {
   "cell_type": "code",
   "execution_count": 3,
   "id": "a6b2bc78-b391-4e59-986a-29851a46a5cf",
   "metadata": {},
   "outputs": [
    {
     "name": "stdout",
     "output_type": "stream",
     "text": [
      "24/03/26 01:41:51 WARN NativeCodeLoader: Unable to load native-hadoop library for your platform... using builtin-java classes where applicable\n"
     ]
    },
    {
     "name": "stderr",
     "output_type": "stream",
     "text": [
      "Setting default log level to \"WARN\".\n",
      "To adjust logging level use sc.setLogLevel(newLevel). For SparkR, use setLogLevel(newLevel).\n"
     ]
    }
   ],
   "source": [
    "sc = SparkContext.getOrCreate(conf=conf)\n",
    "sc.setLogLevel(\"WARN\")\n",
    "hadoop_conf = sc._jsc.hadoopConfiguration()\n",
    "\n",
    "hadoop_conf.set(\"fs.AbstractFileSystem.gs.impl\",  \"com.google.cloud.hadoop.fs.gcs.GoogleHadoopFS\")\n",
    "hadoop_conf.set(\"fs.gs.impl\", \"com.google.cloud.hadoop.fs.gcs.GoogleHadoopFileSystem\")\n",
    "hadoop_conf.set(\"fs.gs.auth.service.account.json.keyfile\", CREDENTIALS_LOCATION)\n",
    "hadoop_conf.set(\"fs.gs.auth.service.account.enable\", \"true\")"
   ]
  },
  {
   "cell_type": "code",
   "execution_count": 4,
   "id": "bd8449d0-df8f-45f2-83cb-6df2f55d585c",
   "metadata": {},
   "outputs": [],
   "source": [
    "spark = SparkSession.builder \\\n",
    "    .config(conf=sc.getConf()) \\\n",
    "    .getOrCreate()"
   ]
  },
  {
   "cell_type": "code",
   "execution_count": 5,
   "id": "d9dfdb2a-dca8-4158-a71b-90c719f12a47",
   "metadata": {},
   "outputs": [],
   "source": [
    "idm_schema = StructType([\n",
    "    StructField('year', ShortType(), True)\n",
    "    , StructField('entity_code', ByteType(), True)\n",
    "    , StructField('entity_name', StringType(), True)\n",
    "    , StructField('municipality_code', ShortType(), True)\n",
    "    , StructField('municipality_name', StringType(), True)\n",
    "    , StructField('affected_legal_asset', StringType(), True)\n",
    "    , StructField('crime_type', StringType(), True)\n",
    "    , StructField('crime_subtype', StringType(), True)\n",
    "    , StructField('crime_modality_type', StringType(), True)\n",
    "    , StructField('january', IntegerType(), True)\n",
    "    , StructField('february', IntegerType(), True)\n",
    "    , StructField('march', IntegerType(), True)\n",
    "    , StructField('april', IntegerType(), True)\n",
    "    , StructField('may', IntegerType(), True)\n",
    "    , StructField('june', IntegerType(), True)\n",
    "    , StructField('july', IntegerType(), True)\n",
    "    , StructField('august', IntegerType(), True)\n",
    "    , StructField('september', IntegerType(), True)\n",
    "    , StructField('october', IntegerType(), True)\n",
    "    , StructField('november', IntegerType(), True)\n",
    "    , StructField('december', IntegerType(), True)\n",
    "])"
   ]
  },
  {
   "cell_type": "code",
   "execution_count": 6,
   "id": "927db0a5-15f5-4246-ac52-b1053cc8ab88",
   "metadata": {},
   "outputs": [],
   "source": [
    "unpivoting_columns = ['year'\n",
    "                      , 'entity_code'\n",
    "                      , 'entity_name'\n",
    "                      , 'municipality_code'\n",
    "                      , 'municipality_name'\n",
    "                      , 'affected_legal_asset'\n",
    "                      , 'crime_type'\n",
    "                      , 'crime_subtype'\n",
    "                      , 'crime_modality_type']\n",
    "\n",
    "\n",
    "stack_query_expression = '''\n",
    "    STACK(12\n",
    "    , \"january\", january\n",
    "    , \"february\", february\n",
    "    , \"march\", march\n",
    "    , \"april\", april\n",
    "    , \"may\", may\n",
    "    , \"june\", june\n",
    "    , \"july\", july\n",
    "    , \"august\", august\n",
    "    , \"september\", september\n",
    "    , \"october\", october\n",
    "    , \"november\", november\n",
    "    , \"december\", december\n",
    "    ) AS (month, crimes)\n",
    "'''\n",
    "\n",
    "month_dict = {\n",
    "    'january'     : '01-01'\n",
    "    , 'february'  : '02-01'\n",
    "    , 'march'     : '03-01'\n",
    "    , 'april'     : '04-01'\n",
    "    , 'may'       : '05-01'\n",
    "    , 'june'      : '06-01'\n",
    "    , 'july'      : '07-01'\n",
    "    , 'august'    : '08-01'\n",
    "    , 'september' : '09-01'\n",
    "    , 'october'   : '10-01'\n",
    "    , 'november'  : '11-01'\n",
    "    , 'december'  : '12-01'\n",
    "}"
   ]
  },
  {
   "cell_type": "code",
   "execution_count": 7,
   "id": "ae37e30a-0138-453d-b136-603661dc4daa",
   "metadata": {},
   "outputs": [],
   "source": [
    "@udf(returnType=StringType())\n",
    "def get_first_day_of_month_date_udf(year, month_name):\n",
    "    return str(year) + '-' + month_dict[month_name]"
   ]
  },
  {
   "cell_type": "code",
   "execution_count": 14,
   "id": "efd0e369-0e59-4a77-9b63-88912440cc51",
   "metadata": {},
   "outputs": [
    {
     "name": "stderr",
     "output_type": "stream",
     "text": [
      "[Stage 0:>                                                          (0 + 1) / 1]\r"
     ]
    },
    {
     "name": "stdout",
     "output_type": "stream",
     "text": [
      "24/03/26 01:54:58 WARN CSVHeaderChecker: CSV header does not conform to the schema.\n",
      " Header: A�o, Clave_Ent, Entidad, Cve. Municipio, Municipio, Bien jur�dico afectado, Tipo de delito, Subtipo de delito, Modalidad, Enero, Febrero, Marzo, Abril, Mayo, Junio, Julio, Agosto, Septiembre, Octubre, Noviembre, Diciembre\n",
      " Schema: year, entity_code, entity_name, municipality_code, municipality_name, affected_legal_asset, crime_type, crime_subtype, crime_modality_type, january, february, march, april, may, june, july, august, september, october, november, december\n",
      "Expected: year but found: A�o\n",
      "CSV file: gs://landing_bucket_dez/idm/idm.csv\n",
      "+----+-----------+--------------+-----------------+-----------------+--------------------+-----------+-----------------+--------------------+-------+--------+-----+-----+---+----+----+------+---------+-------+--------+--------+\n",
      "|year|entity_code|   entity_name|municipality_code|municipality_name|affected_legal_asset| crime_type|    crime_subtype| crime_modality_type|january|february|march|april|may|june|july|august|september|october|november|december|\n",
      "+----+-----------+--------------+-----------------+-----------------+--------------------+-----------+-----------------+--------------------+-------+--------+-----+-----+---+----+----+------+---------+-------+--------+--------+\n",
      "|2015|          1|Aguascalientes|             1001|   Aguascalientes|La vida y la Inte...|  Homicidio| Homicidio doloso|   Con arma de fuego|      2|       0|    1|    1|  0|   1|   1|     0|        2|      1|       0|       1|\n",
      "|2015|          1|Aguascalientes|             1001|   Aguascalientes|La vida y la Inte...|  Homicidio| Homicidio doloso|     Con arma blanca|      1|       1|    0|    0|  0|   1|   0|     1|        0|      0|       0|       0|\n",
      "|2015|          1|Aguascalientes|             1001|   Aguascalientes|La vida y la Inte...|  Homicidio| Homicidio doloso|   Con otro elemento|      0|       0|    1|    1|  3|   2|   0|     1|        2|      0|       0|       0|\n",
      "|2015|          1|Aguascalientes|             1001|   Aguascalientes|La vida y la Inte...|  Homicidio| Homicidio doloso|     No especificado|      1|       0|    0|    1|  0|   0|   0|     0|        0|      0|       0|       0|\n",
      "|2015|          1|Aguascalientes|             1001|   Aguascalientes|La vida y la Inte...|  Homicidio|Homicidio culposo|   Con arma de fuego|      0|       0|    0|    0|  1|   0|   0|     0|        0|      0|       0|       0|\n",
      "|2015|          1|Aguascalientes|             1001|   Aguascalientes|La vida y la Inte...|  Homicidio|Homicidio culposo|     Con arma blanca|      0|       0|    0|    0|  0|   0|   0|     0|        0|      0|       0|       0|\n",
      "|2015|          1|Aguascalientes|             1001|   Aguascalientes|La vida y la Inte...|  Homicidio|Homicidio culposo|En accidente de t...|      9|      10|    3|   11|  6|   4|   6|     6|       11|      6|       3|       7|\n",
      "|2015|          1|Aguascalientes|             1001|   Aguascalientes|La vida y la Inte...|  Homicidio|Homicidio culposo|   Con otro elemento|      0|       0|    0|    0|  0|   1|   0|     0|        0|      0|       0|       0|\n",
      "|2015|          1|Aguascalientes|             1001|   Aguascalientes|La vida y la Inte...|  Homicidio|Homicidio culposo|     No especificado|      1|       0|    0|    3|  0|   0|   0|     0|        0|      0|       0|       0|\n",
      "|2015|          1|Aguascalientes|             1001|   Aguascalientes|La vida y la Inte...|   Lesiones| Lesiones dolosas|   Con arma de fuego|      1|       2|    4|    1|  1|   1|   3|     2|        1|      3|       2|       2|\n",
      "|2015|          1|Aguascalientes|             1001|   Aguascalientes|La vida y la Inte...|   Lesiones| Lesiones dolosas|     Con arma blanca|     11|       6|   11|   15|  7|   7|  12|    14|        3|      9|      11|      11|\n",
      "|2015|          1|Aguascalientes|             1001|   Aguascalientes|La vida y la Inte...|   Lesiones| Lesiones dolosas|   Con otro elemento|    120|     121|  133|  153|163| 161| 151|   163|      136|    105|      89|     104|\n",
      "|2015|          1|Aguascalientes|             1001|   Aguascalientes|La vida y la Inte...|   Lesiones| Lesiones dolosas|     No especificado|     10|      19|    9|   12|  0|   0|   0|     0|        0|     18|      11|      19|\n",
      "|2015|          1|Aguascalientes|             1001|   Aguascalientes|La vida y la Inte...|   Lesiones|Lesiones culposas|   Con arma de fuego|      0|       0|    0|    0|  0|   0|   0|     0|        0|      0|       0|       0|\n",
      "|2015|          1|Aguascalientes|             1001|   Aguascalientes|La vida y la Inte...|   Lesiones|Lesiones culposas|     Con arma blanca|      0|       0|    1|    0|  0|   0|   0|     0|        0|      0|       0|       0|\n",
      "|2015|          1|Aguascalientes|             1001|   Aguascalientes|La vida y la Inte...|   Lesiones|Lesiones culposas|En accidente de t...|     37|      29|   70|   84| 71|  65|  77|    60|       71|     80|      73|      80|\n",
      "|2015|          1|Aguascalientes|             1001|   Aguascalientes|La vida y la Inte...|   Lesiones|Lesiones culposas|   Con otro elemento|      2|       0|    0|    2| 22|  29|   5|    24|        2|      3|      10|       3|\n",
      "|2015|          1|Aguascalientes|             1001|   Aguascalientes|La vida y la Inte...|   Lesiones|Lesiones culposas|     No especificado|      3|       3|    2|   12|  0|   0|   0|     0|       14|      6|       0|       6|\n",
      "|2015|          1|Aguascalientes|             1001|   Aguascalientes|La vida y la Inte...|Feminicidio|      Feminicidio|   Con arma de fuego|      0|       0|    0|    0|  0|   0|   0|     0|        0|      0|       0|       0|\n",
      "|2015|          1|Aguascalientes|             1001|   Aguascalientes|La vida y la Inte...|Feminicidio|      Feminicidio|     Con arma blanca|      0|       0|    0|    0|  0|   0|   0|     0|        0|      0|       0|       0|\n",
      "+----+-----------+--------------+-----------------+-----------------+--------------------+-----------+-----------------+--------------------+-------+--------+-----+-----+---+----+----+------+---------+-------+--------+--------+\n",
      "only showing top 20 rows\n",
      "\n"
     ]
    },
    {
     "name": "stderr",
     "output_type": "stream",
     "text": [
      "                                                                                \r"
     ]
    }
   ],
   "source": [
    "idm_df = spark.read\\\n",
    "    .option('header', True)\\\n",
    "    .schema(idm_schema)\\\n",
    "    .csv('gs://landing_bucket_dez/idm/idm.csv')\n",
    "idm_df.show()"
   ]
  },
  {
   "cell_type": "code",
   "execution_count": 15,
   "id": "744456c0-b81a-4cb7-9dc9-86c8e6dc1b40",
   "metadata": {},
   "outputs": [],
   "source": [
    "unpivoted_df = idm_df.selectExpr(*unpivoting_columns\n",
    "                                 , stack_query_expression)"
   ]
  },
  {
   "cell_type": "code",
   "execution_count": 16,
   "id": "25cd9708-8269-42e5-a232-d08fc203403d",
   "metadata": {},
   "outputs": [],
   "source": [
    "date_df = unpivoted_df.withColumn('info_month_date', get_first_day_of_month_date_udf('year', 'month').cast(DateType()))"
   ]
  },
  {
   "cell_type": "code",
   "execution_count": 17,
   "id": "a6cd4c34-8522-46b0-a2a4-9ac52764086d",
   "metadata": {},
   "outputs": [
    {
     "name": "stderr",
     "output_type": "stream",
     "text": [
      "[Stage 1:>                                                          (0 + 1) / 1]\r"
     ]
    },
    {
     "name": "stdout",
     "output_type": "stream",
     "text": [
      "24/03/26 01:56:20 WARN CSVHeaderChecker: CSV header does not conform to the schema.\n",
      " Header: A�o, Clave_Ent, Entidad, Cve. Municipio, Municipio, Bien jur�dico afectado, Tipo de delito, Subtipo de delito, Modalidad, Enero, Febrero, Marzo, Abril, Mayo, Junio, Julio, Agosto, Septiembre, Octubre, Noviembre, Diciembre\n",
      " Schema: year, entity_code, entity_name, municipality_code, municipality_name, affected_legal_asset, crime_type, crime_subtype, crime_modality_type, january, february, march, april, may, june, july, august, september, october, november, december\n",
      "Expected: year but found: A�o\n",
      "CSV file: gs://landing_bucket_dez/idm/idm.csv\n",
      "+----+-----------+--------------+-----------------+-----------------+--------------------+----------+----------------+-------------------+---------+------+---------------+\n",
      "|year|entity_code|   entity_name|municipality_code|municipality_name|affected_legal_asset|crime_type|   crime_subtype|crime_modality_type|    month|crimes|info_month_date|\n",
      "+----+-----------+--------------+-----------------+-----------------+--------------------+----------+----------------+-------------------+---------+------+---------------+\n",
      "|2015|          1|Aguascalientes|             1001|   Aguascalientes|La vida y la Inte...| Homicidio|Homicidio doloso|  Con arma de fuego|  january|     2|     2015-01-01|\n",
      "|2015|          1|Aguascalientes|             1001|   Aguascalientes|La vida y la Inte...| Homicidio|Homicidio doloso|  Con arma de fuego| february|     0|     2015-02-01|\n",
      "|2015|          1|Aguascalientes|             1001|   Aguascalientes|La vida y la Inte...| Homicidio|Homicidio doloso|  Con arma de fuego|    march|     1|     2015-03-01|\n",
      "|2015|          1|Aguascalientes|             1001|   Aguascalientes|La vida y la Inte...| Homicidio|Homicidio doloso|  Con arma de fuego|    april|     1|     2015-04-01|\n",
      "|2015|          1|Aguascalientes|             1001|   Aguascalientes|La vida y la Inte...| Homicidio|Homicidio doloso|  Con arma de fuego|      may|     0|     2015-05-01|\n",
      "|2015|          1|Aguascalientes|             1001|   Aguascalientes|La vida y la Inte...| Homicidio|Homicidio doloso|  Con arma de fuego|     june|     1|     2015-06-01|\n",
      "|2015|          1|Aguascalientes|             1001|   Aguascalientes|La vida y la Inte...| Homicidio|Homicidio doloso|  Con arma de fuego|     july|     1|     2015-07-01|\n",
      "|2015|          1|Aguascalientes|             1001|   Aguascalientes|La vida y la Inte...| Homicidio|Homicidio doloso|  Con arma de fuego|   august|     0|     2015-08-01|\n",
      "|2015|          1|Aguascalientes|             1001|   Aguascalientes|La vida y la Inte...| Homicidio|Homicidio doloso|  Con arma de fuego|september|     2|     2015-09-01|\n",
      "|2015|          1|Aguascalientes|             1001|   Aguascalientes|La vida y la Inte...| Homicidio|Homicidio doloso|  Con arma de fuego|  october|     1|     2015-10-01|\n",
      "|2015|          1|Aguascalientes|             1001|   Aguascalientes|La vida y la Inte...| Homicidio|Homicidio doloso|  Con arma de fuego| november|     0|     2015-11-01|\n",
      "|2015|          1|Aguascalientes|             1001|   Aguascalientes|La vida y la Inte...| Homicidio|Homicidio doloso|  Con arma de fuego| december|     1|     2015-12-01|\n",
      "|2015|          1|Aguascalientes|             1001|   Aguascalientes|La vida y la Inte...| Homicidio|Homicidio doloso|    Con arma blanca|  january|     1|     2015-01-01|\n",
      "|2015|          1|Aguascalientes|             1001|   Aguascalientes|La vida y la Inte...| Homicidio|Homicidio doloso|    Con arma blanca| february|     1|     2015-02-01|\n",
      "|2015|          1|Aguascalientes|             1001|   Aguascalientes|La vida y la Inte...| Homicidio|Homicidio doloso|    Con arma blanca|    march|     0|     2015-03-01|\n",
      "|2015|          1|Aguascalientes|             1001|   Aguascalientes|La vida y la Inte...| Homicidio|Homicidio doloso|    Con arma blanca|    april|     0|     2015-04-01|\n",
      "|2015|          1|Aguascalientes|             1001|   Aguascalientes|La vida y la Inte...| Homicidio|Homicidio doloso|    Con arma blanca|      may|     0|     2015-05-01|\n",
      "|2015|          1|Aguascalientes|             1001|   Aguascalientes|La vida y la Inte...| Homicidio|Homicidio doloso|    Con arma blanca|     june|     1|     2015-06-01|\n",
      "|2015|          1|Aguascalientes|             1001|   Aguascalientes|La vida y la Inte...| Homicidio|Homicidio doloso|    Con arma blanca|     july|     0|     2015-07-01|\n",
      "|2015|          1|Aguascalientes|             1001|   Aguascalientes|La vida y la Inte...| Homicidio|Homicidio doloso|    Con arma blanca|   august|     1|     2015-08-01|\n",
      "+----+-----------+--------------+-----------------+-----------------+--------------------+----------+----------------+-------------------+---------+------+---------------+\n",
      "only showing top 20 rows\n",
      "\n"
     ]
    },
    {
     "name": "stderr",
     "output_type": "stream",
     "text": [
      "                                                                                \r"
     ]
    }
   ],
   "source": [
    "date_df.show()"
   ]
  },
  {
   "cell_type": "code",
   "execution_count": null,
   "id": "83851e3b-eca3-4d97-8ac1-be718bd4af43",
   "metadata": {},
   "outputs": [],
   "source": []
  },
  {
   "cell_type": "code",
   "execution_count": null,
   "id": "24501cc1-ab66-4e08-a24f-ea23d7192c60",
   "metadata": {},
   "outputs": [],
   "source": []
  },
  {
   "cell_type": "code",
   "execution_count": 25,
   "id": "173ed8d1-69e7-4d5a-94a4-cf7ee3de378e",
   "metadata": {},
   "outputs": [
    {
     "name": "stdout",
     "output_type": "stream",
     "text": [
      "24/03/17 00:14:04 WARN CSVHeaderChecker: CSV header does not conform to the schema.\n",
      " Header: A�o, Clave_Ent, Entidad, Cve. Municipio, Municipio, Bien jur�dico afectado, Tipo de delito, Subtipo de delito, Modalidad, Enero, Febrero, Marzo, Abril, Mayo, Junio, Julio, Agosto, Septiembre, Octubre, Noviembre, Diciembre\n",
      " Schema: year, entity_code, entity_name, municipality_code, municipality_name, affected_legal_asset, crime_type, crime_subtype, crime_modality_type, january, february, march, april, may, june, july, august, september, october, november, december\n",
      "Expected: year but found: A�o\n",
      "CSV file: gs://landing_bucket_dez/idm.csv\n"
     ]
    },
    {
     "name": "stderr",
     "output_type": "stream",
     "text": [
      "                                                                                \r"
     ]
    }
   ],
   "source": [
    "date_df.write\\\n",
    ".mode(\"overwrite\")\\\n",
    ".partitionBy('year')\\\n",
    ".parquet('gs://landing_bucket_dez/pq/idm/')"
   ]
  },
  {
   "cell_type": "code",
   "execution_count": null,
   "id": "6db36bb0-3625-4d50-9112-5105780a23ac",
   "metadata": {},
   "outputs": [],
   "source": []
  }
 ],
 "metadata": {
  "kernelspec": {
   "display_name": "Python 3 (ipykernel)",
   "language": "python",
   "name": "python3"
  },
  "language_info": {
   "codemirror_mode": {
    "name": "ipython",
    "version": 3
   },
   "file_extension": ".py",
   "mimetype": "text/x-python",
   "name": "python",
   "nbconvert_exporter": "python",
   "pygments_lexer": "ipython3",
   "version": "3.8.10"
  }
 },
 "nbformat": 4,
 "nbformat_minor": 5
}
