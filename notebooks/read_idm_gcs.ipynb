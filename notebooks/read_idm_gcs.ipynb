{
 "cells": [
  {
   "cell_type": "code",
   "execution_count": 15,
   "id": "8259b58b-d11e-4a1f-ac50-bcd0b964d21b",
   "metadata": {},
   "outputs": [],
   "source": [
    "import pyspark\n",
    "from pyspark.sql import SparkSession\n",
    "from pyspark.conf import SparkConf\n",
    "from pyspark.context import SparkContext\n",
    "import pyspark.sql.functions as F\n",
    "from pyspark.sql.functions import udf\n",
    "\n",
    "from pyspark.sql.types import StructType, StructField, IntegerType, StringType, ShortType, ByteType, DateType"
   ]
  },
  {
   "cell_type": "code",
   "execution_count": 16,
   "id": "9904c5ac-a9f8-417c-8e49-52d5212023a2",
   "metadata": {},
   "outputs": [],
   "source": [
    "CREDENTIALS_LOCATION = '/home/emilel/.secrets/gcp/gcp-secret.json'\n",
    "SPARK_LIB = \"/home/emilel/dez-project-emi/lib/gcs-connector-hadoop3-2.2.5.jar\"\n",
    "\n",
    "conf = SparkConf() \\\n",
    "    .setMaster('local[*]') \\\n",
    "    .setAppName('test') \\\n",
    "    .set(\"spark.jars\", SPARK_LIB) \\\n",
    "    .set(\"spark.hadoop.google.cloud.auth.service.account.enable\", \"true\") \\\n",
    "    .set(\"spark.hadoop.google.cloud.auth.service.account.json.keyfile\", CREDENTIALS_LOCATION)"
   ]
  },
  {
   "cell_type": "code",
   "execution_count": 17,
   "id": "a6b2bc78-b391-4e59-986a-29851a46a5cf",
   "metadata": {},
   "outputs": [],
   "source": [
    "sc = SparkContext.getOrCreate(conf=conf)\n",
    "sc.setLogLevel(\"WARN\")\n",
    "hadoop_conf = sc._jsc.hadoopConfiguration()\n",
    "\n",
    "hadoop_conf.set(\"fs.AbstractFileSystem.gs.impl\",  \"com.google.cloud.hadoop.fs.gcs.GoogleHadoopFS\")\n",
    "hadoop_conf.set(\"fs.gs.impl\", \"com.google.cloud.hadoop.fs.gcs.GoogleHadoopFileSystem\")\n",
    "hadoop_conf.set(\"fs.gs.auth.service.account.json.keyfile\", CREDENTIALS_LOCATION)\n",
    "hadoop_conf.set(\"fs.gs.auth.service.account.enable\", \"true\")"
   ]
  },
  {
   "cell_type": "code",
   "execution_count": 26,
   "id": "bd8449d0-df8f-45f2-83cb-6df2f55d585c",
   "metadata": {},
   "outputs": [
    {
     "ename": "TypeError",
     "evalue": "set expected at most 1 argument, got 2",
     "output_type": "error",
     "traceback": [
      "\u001b[0;31m---------------------------------------------------------------------------\u001b[0m",
      "\u001b[0;31mTypeError\u001b[0m                                 Traceback (most recent call last)",
      "Cell \u001b[0;32mIn[26], line 4\u001b[0m\n\u001b[1;32m      1\u001b[0m spark \u001b[38;5;241m=\u001b[39m SparkSession\u001b[38;5;241m.\u001b[39mbuilder \\\n\u001b[1;32m      2\u001b[0m     \u001b[38;5;241m.\u001b[39mconfig(conf\u001b[38;5;241m=\u001b[39msc\u001b[38;5;241m.\u001b[39mgetConf()) \\\n\u001b[1;32m      3\u001b[0m     \u001b[38;5;241m.\u001b[39mgetOrCreate()\n\u001b[0;32m----> 4\u001b[0m \u001b[38;5;28;43mset\u001b[39;49m\u001b[43m(\u001b[49m\u001b[38;5;124;43m'\u001b[39;49m\u001b[38;5;124;43mspark.driver.memory\u001b[39;49m\u001b[38;5;124;43m'\u001b[39;49m\u001b[43m,\u001b[49m\u001b[38;5;124;43m'\u001b[39;49m\u001b[38;5;124;43m15g\u001b[39;49m\u001b[38;5;124;43m'\u001b[39;49m\u001b[43m)\u001b[49m\n",
      "\u001b[0;31mTypeError\u001b[0m: set expected at most 1 argument, got 2"
     ]
    }
   ],
   "source": [
    "spark = SparkSession.builder \\\n",
    "    .config(conf=sc.getConf()) \\\n",
    "    .getOrCreate()"
   ]
  },
  {
   "cell_type": "code",
   "execution_count": 19,
   "id": "d9dfdb2a-dca8-4158-a71b-90c719f12a47",
   "metadata": {},
   "outputs": [],
   "source": [
    "idm_schema = StructType([\n",
    "    StructField('year', ShortType(), True)\n",
    "    , StructField('entity_code', ByteType(), True)\n",
    "    , StructField('entity_name', StringType(), True)\n",
    "    , StructField('municipality_code', ShortType(), True)\n",
    "    , StructField('municipality_name', StringType(), True)\n",
    "    , StructField('affected_legal_asset', StringType(), True)\n",
    "    , StructField('crime_type', StringType(), True)\n",
    "    , StructField('crime_subtype', StringType(), True)\n",
    "    , StructField('crime_modality_type', StringType(), True)\n",
    "    , StructField('january', IntegerType(), True)\n",
    "    , StructField('february', IntegerType(), True)\n",
    "    , StructField('march', IntegerType(), True)\n",
    "    , StructField('april', IntegerType(), True)\n",
    "    , StructField('may', IntegerType(), True)\n",
    "    , StructField('june', IntegerType(), True)\n",
    "    , StructField('july', IntegerType(), True)\n",
    "    , StructField('august', IntegerType(), True)\n",
    "    , StructField('september', IntegerType(), True)\n",
    "    , StructField('october', IntegerType(), True)\n",
    "    , StructField('november', IntegerType(), True)\n",
    "    , StructField('december', IntegerType(), True)\n",
    "])"
   ]
  },
  {
   "cell_type": "code",
   "execution_count": 20,
   "id": "927db0a5-15f5-4246-ac52-b1053cc8ab88",
   "metadata": {},
   "outputs": [],
   "source": [
    "unpivoting_columns = ['year'\n",
    "                      , 'entity_code'\n",
    "                      , 'entity_name'\n",
    "                      , 'municipality_code'\n",
    "                      , 'municipality_name'\n",
    "                      , 'affected_legal_asset'\n",
    "                      , 'crime_type'\n",
    "                      , 'crime_subtype'\n",
    "                      , 'crime_modality_type']\n",
    "\n",
    "\n",
    "stack_query_expression = '''\n",
    "    STACK(12\n",
    "    , \"january\", january\n",
    "    , \"february\", february\n",
    "    , \"march\", march\n",
    "    , \"april\", april\n",
    "    , \"may\", may\n",
    "    , \"june\", june\n",
    "    , \"july\", july\n",
    "    , \"august\", august\n",
    "    , \"september\", september\n",
    "    , \"october\", october\n",
    "    , \"november\", november\n",
    "    , \"december\", december\n",
    "    ) AS (month, crimes)\n",
    "'''\n",
    "\n",
    "month_dict = {\n",
    "    'january'     : '01-01'\n",
    "    , 'february'  : '02-01'\n",
    "    , 'march'     : '03-01'\n",
    "    , 'april'     : '04-01'\n",
    "    , 'may'       : '05-01'\n",
    "    , 'june'      : '06-01'\n",
    "    , 'july'      : '07-01'\n",
    "    , 'august'    : '08-01'\n",
    "    , 'september' : '09-01'\n",
    "    , 'october'   : '10-01'\n",
    "    , 'november'  : '11-01'\n",
    "    , 'december'  : '12-01'\n",
    "}"
   ]
  },
  {
   "cell_type": "code",
   "execution_count": 21,
   "id": "ae37e30a-0138-453d-b136-603661dc4daa",
   "metadata": {},
   "outputs": [],
   "source": [
    "@udf(returnType=StringType())\n",
    "def get_first_day_of_month_date_udf(year, month_name):\n",
    "    return str(year) + '-' + month_dict[month_name]"
   ]
  },
  {
   "cell_type": "code",
   "execution_count": 22,
   "id": "efd0e369-0e59-4a77-9b63-88912440cc51",
   "metadata": {},
   "outputs": [],
   "source": [
    "idm_df = spark.read\\\n",
    "    .option('header', True)\\\n",
    "    .schema(idm_schema)\\\n",
    "    .csv('gs://landing_bucket_dez/idm.csv')"
   ]
  },
  {
   "cell_type": "code",
   "execution_count": 23,
   "id": "744456c0-b81a-4cb7-9dc9-86c8e6dc1b40",
   "metadata": {},
   "outputs": [],
   "source": [
    "unpivoted_df = idm_df.selectExpr(*unpivoting_columns\n",
    "                                 , stack_query_expression)"
   ]
  },
  {
   "cell_type": "code",
   "execution_count": 24,
   "id": "25cd9708-8269-42e5-a232-d08fc203403d",
   "metadata": {},
   "outputs": [],
   "source": [
    "date_df = unpivoted_df.withColumn('info_month_date', get_first_day_of_month_date_udf('year', 'month').cast(DateType()))"
   ]
  },
  {
   "cell_type": "code",
   "execution_count": 25,
   "id": "173ed8d1-69e7-4d5a-94a4-cf7ee3de378e",
   "metadata": {},
   "outputs": [
    {
     "name": "stdout",
     "output_type": "stream",
     "text": [
      "24/03/17 00:14:04 WARN CSVHeaderChecker: CSV header does not conform to the schema.\n",
      " Header: A�o, Clave_Ent, Entidad, Cve. Municipio, Municipio, Bien jur�dico afectado, Tipo de delito, Subtipo de delito, Modalidad, Enero, Febrero, Marzo, Abril, Mayo, Junio, Julio, Agosto, Septiembre, Octubre, Noviembre, Diciembre\n",
      " Schema: year, entity_code, entity_name, municipality_code, municipality_name, affected_legal_asset, crime_type, crime_subtype, crime_modality_type, january, february, march, april, may, june, july, august, september, october, november, december\n",
      "Expected: year but found: A�o\n",
      "CSV file: gs://landing_bucket_dez/idm.csv\n"
     ]
    },
    {
     "name": "stderr",
     "output_type": "stream",
     "text": [
      "                                                                                \r"
     ]
    }
   ],
   "source": [
    "date_df.write\\\n",
    ".mode(\"overwrite\")\\\n",
    ".partitionBy('year')\\\n",
    ".parquet('gs://landing_bucket_dez/pq/idm/')"
   ]
  },
  {
   "cell_type": "code",
   "execution_count": null,
   "id": "6db36bb0-3625-4d50-9112-5105780a23ac",
   "metadata": {},
   "outputs": [],
   "source": []
  }
 ],
 "metadata": {
  "kernelspec": {
   "display_name": "Python 3 (ipykernel)",
   "language": "python",
   "name": "python3"
  },
  "language_info": {
   "codemirror_mode": {
    "name": "ipython",
    "version": 3
   },
   "file_extension": ".py",
   "mimetype": "text/x-python",
   "name": "python",
   "nbconvert_exporter": "python",
   "pygments_lexer": "ipython3",
   "version": "3.8.10"
  }
 },
 "nbformat": 4,
 "nbformat_minor": 5
}
